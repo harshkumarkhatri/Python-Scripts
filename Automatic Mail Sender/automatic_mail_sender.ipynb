{
 "cells": [
  {
   "cell_type": "code",
   "execution_count": 10,
   "metadata": {
    "collapsed": true
   },
   "outputs": [],
   "source": [
    "# add your mail id and password and take care of the things given in readme\n",
    "MAIL_USERNAME='gymaale.buisness@gmail.com'\n",
    "MAIL_PASSWORD='Harsh96722'\n",
    "MAIL_SERVER='smtp.googlemail.com'"
   ]
  },
  {
   "cell_type": "code",
   "execution_count": 11,
   "outputs": [],
   "source": [
    "\n",
    "from flask import Flask\n",
    "from flask_mail import Mail, Message\n",
    "import os\n",
    "\n",
    "app = Flask(__name__)\n",
    "\n",
    "mail_settings = {\n",
    "    \"MAIL_SERVER\": 'smtp.gmail.com',\n",
    "    \"MAIL_PORT\": 465,\n",
    "    \"MAIL_USE_TLS\": False,\n",
    "    \"MAIL_USE_SSL\": True,\n",
    "    \"MAIL_USERNAME\": MAIL_USERNAME,\n",
    "    \"MAIL_PASSWORD\": MAIL_PASSWORD\n",
    "}\n",
    "\n",
    "app.config.update(mail_settings)\n",
    "mail = Mail(app)"
   ],
   "metadata": {
    "collapsed": false,
    "pycharm": {
     "name": "#%%\n"
    }
   }
  },
  {
   "cell_type": "code",
   "execution_count": 12,
   "outputs": [],
   "source": [
    "import pandas as pd"
   ],
   "metadata": {
    "collapsed": false,
    "pycharm": {
     "name": "#%%\n"
    }
   }
  },
  {
   "cell_type": "code",
   "execution_count": 13,
   "outputs": [],
   "source": [
    "# for reading the data from the csv file\n",
    "df=pd.read_csv(\"1.csv\")"
   ],
   "metadata": {
    "collapsed": false,
    "pycharm": {
     "name": "#%%\n"
    }
   }
  },
  {
   "cell_type": "code",
   "execution_count": 14,
   "outputs": [
    {
     "data": {
      "text/plain": "                          emails\n0       mailharshkhatr@gmail.com\n1            harsh@harshblog.xyz\n2             test@harshblog.xyz\n3       harsh@studentpartner.com\n4           hkhatri557@gmail.com\n5           hkhatri558@gmail.com\n6  harshkhatribusiness@gmail.com\n7       harshkkhatri70@gmail.com",
      "text/html": "<div>\n<style scoped>\n    .dataframe tbody tr th:only-of-type {\n        vertical-align: middle;\n    }\n\n    .dataframe tbody tr th {\n        vertical-align: top;\n    }\n\n    .dataframe thead th {\n        text-align: right;\n    }\n</style>\n<table border=\"1\" class=\"dataframe\">\n  <thead>\n    <tr style=\"text-align: right;\">\n      <th></th>\n      <th>emails</th>\n    </tr>\n  </thead>\n  <tbody>\n    <tr>\n      <th>0</th>\n      <td>mailharshkhatr@gmail.com</td>\n    </tr>\n    <tr>\n      <th>1</th>\n      <td>harsh@harshblog.xyz</td>\n    </tr>\n    <tr>\n      <th>2</th>\n      <td>test@harshblog.xyz</td>\n    </tr>\n    <tr>\n      <th>3</th>\n      <td>harsh@studentpartner.com</td>\n    </tr>\n    <tr>\n      <th>4</th>\n      <td>hkhatri557@gmail.com</td>\n    </tr>\n    <tr>\n      <th>5</th>\n      <td>hkhatri558@gmail.com</td>\n    </tr>\n    <tr>\n      <th>6</th>\n      <td>harshkhatribusiness@gmail.com</td>\n    </tr>\n    <tr>\n      <th>7</th>\n      <td>harshkkhatri70@gmail.com</td>\n    </tr>\n  </tbody>\n</table>\n</div>"
     },
     "execution_count": 14,
     "metadata": {},
     "output_type": "execute_result"
    }
   ],
   "source": [
    "# For seeing  mails which are present\n",
    "df"
   ],
   "metadata": {
    "collapsed": false,
    "pycharm": {
     "name": "#%%\n"
    }
   }
  },
  {
   "cell_type": "code",
   "execution_count": 16,
   "outputs": [
    {
     "name": "stdout",
     "output_type": "stream",
     "text": [
      "sent\n",
      "all mails sent.if any of the address was wrong you will get a mail regarding the same from google.\n",
      "sent\n",
      "all mails sent.if any of the address was wrong you will get a mail regarding the same from google.\n",
      "sent\n",
      "all mails sent.if any of the address was wrong you will get a mail regarding the same from google.\n",
      "sent\n",
      "all mails sent.if any of the address was wrong you will get a mail regarding the same from google.\n",
      "sent\n",
      "all mails sent.if any of the address was wrong you will get a mail regarding the same from google.\n",
      "sent\n",
      "all mails sent.if any of the address was wrong you will get a mail regarding the same from google.\n",
      "sent\n",
      "all mails sent.if any of the address was wrong you will get a mail regarding the same from google.\n",
      "sent\n",
      "all mails sent.if any of the address was wrong you will get a mail regarding the same from google.\n"
     ]
    }
   ],
   "source": [
    "from flask import render_template\n",
    "recipients=['mailharshkhatri@gmail.com',\"harsh@harshblog.xyz\",\"test@harshblog.xyz\"]\n",
    "def send_mail(i):\n",
    "    with app.app_context():\n",
    "        msg=Message(\n",
    "            \"mail sending with python\",\n",
    "            sender=MAIL_USERNAME,\n",
    "            recipients=[i]\n",
    "        )\n",
    "        # If you want to send a simple text mail\n",
    "        # msg.body=\"Hello friends\"\n",
    "\n",
    "        # If you want to include html page inside the email\n",
    "        msg.html=render_template(\"index2.html\",_external=True)\n",
    "        mail.send(msg)\n",
    "        print(\"sent\")\n",
    "if __name__== '__main__':\n",
    "    for i in df['emails']:\n",
    "        send_mail(i)\n",
    "        print(\"all mails sent.if any of the address was wrong you will get a mail regarding the same from google.\")"
   ],
   "metadata": {
    "collapsed": false,
    "pycharm": {
     "name": "#%%\n"
    }
   }
  },
  {
   "cell_type": "code",
   "execution_count": null,
   "outputs": [],
   "source": [
    "\n"
   ],
   "metadata": {
    "collapsed": false,
    "pycharm": {
     "name": "#%%\n"
    }
   }
  }
 ],
 "metadata": {
  "kernelspec": {
   "name": "pycharm-22e4ca5d",
   "language": "python",
   "display_name": "PyCharm (Scripts)"
  },
  "language_info": {
   "codemirror_mode": {
    "name": "ipython",
    "version": 2
   },
   "file_extension": ".py",
   "mimetype": "text/x-python",
   "name": "python",
   "nbconvert_exporter": "python",
   "pygments_lexer": "ipython2",
   "version": "2.7.6"
  }
 },
 "nbformat": 4,
 "nbformat_minor": 0
}