{
 "cells": [
  {
   "cell_type": "code",
   "execution_count": 10,
   "source": [
    "# add your mail id and password and take care of the things given in readme\r\n",
    "MAIL_USERNAME='<Your email>'\r\n",
    "MAIL_PASSWORD='<Your password>'\r\n",
    "MAIL_SERVER='smtp.googlemail.com'"
   ],
   "outputs": [],
   "metadata": {
    "collapsed": true
   }
  },
  {
   "cell_type": "code",
   "execution_count": 11,
   "source": [
    "\r\n",
    "from flask import Flask\r\n",
    "from flask_mail import Mail, Message\r\n",
    "import os\r\n",
    "\r\n",
    "app = Flask(__name__)\r\n",
    "\r\n",
    "mail_settings = {\r\n",
    "    \"MAIL_SERVER\": 'smtp.gmail.com',\r\n",
    "    \"MAIL_PORT\": 465,\r\n",
    "    \"MAIL_USE_TLS\": False,\r\n",
    "    \"MAIL_USE_SSL\": True,\r\n",
    "    \"MAIL_USERNAME\": MAIL_USERNAME,\r\n",
    "    \"MAIL_PASSWORD\": MAIL_PASSWORD\r\n",
    "}\r\n",
    "\r\n",
    "app.config.update(mail_settings)\r\n",
    "mail = Mail(app)"
   ],
   "outputs": [],
   "metadata": {
    "collapsed": false,
    "pycharm": {
     "name": "#%%\n"
    }
   }
  },
  {
   "cell_type": "code",
   "execution_count": 12,
   "source": [
    "import pandas as pd"
   ],
   "outputs": [],
   "metadata": {
    "collapsed": false,
    "pycharm": {
     "name": "#%%\n"
    }
   }
  },
  {
   "cell_type": "code",
   "execution_count": 13,
   "source": [
    "# for reading the data from the csv file\n",
    "df=pd.read_csv(\"1.csv\")"
   ],
   "outputs": [],
   "metadata": {
    "collapsed": false,
    "pycharm": {
     "name": "#%%\n"
    }
   }
  },
  {
   "cell_type": "code",
   "execution_count": 14,
   "source": [
    "# For seeing  mails which are present\n",
    "df"
   ],
   "outputs": [
    {
     "output_type": "execute_result",
     "data": {
      "text/plain": [
       "                          emails\n",
       "0       mailharshkhatr@gmail.com\n",
       "1            harsh@harshblog.xyz\n",
       "2             test@harshblog.xyz\n",
       "3       harsh@studentpartner.com\n",
       "4           hkhatri557@gmail.com\n",
       "5           hkhatri558@gmail.com\n",
       "6  harshkhatribusiness@gmail.com\n",
       "7       harshkkhatri70@gmail.com"
      ],
      "text/html": [
       "<div>\n",
       "<style scoped>\n",
       "    .dataframe tbody tr th:only-of-type {\n",
       "        vertical-align: middle;\n",
       "    }\n",
       "\n",
       "    .dataframe tbody tr th {\n",
       "        vertical-align: top;\n",
       "    }\n",
       "\n",
       "    .dataframe thead th {\n",
       "        text-align: right;\n",
       "    }\n",
       "</style>\n",
       "<table border=\"1\" class=\"dataframe\">\n",
       "  <thead>\n",
       "    <tr style=\"text-align: right;\">\n",
       "      <th></th>\n",
       "      <th>emails</th>\n",
       "    </tr>\n",
       "  </thead>\n",
       "  <tbody>\n",
       "    <tr>\n",
       "      <th>0</th>\n",
       "      <td>mailharshkhatr@gmail.com</td>\n",
       "    </tr>\n",
       "    <tr>\n",
       "      <th>1</th>\n",
       "      <td>harsh@harshblog.xyz</td>\n",
       "    </tr>\n",
       "    <tr>\n",
       "      <th>2</th>\n",
       "      <td>test@harshblog.xyz</td>\n",
       "    </tr>\n",
       "    <tr>\n",
       "      <th>3</th>\n",
       "      <td>harsh@studentpartner.com</td>\n",
       "    </tr>\n",
       "    <tr>\n",
       "      <th>4</th>\n",
       "      <td>hkhatri557@gmail.com</td>\n",
       "    </tr>\n",
       "    <tr>\n",
       "      <th>5</th>\n",
       "      <td>hkhatri558@gmail.com</td>\n",
       "    </tr>\n",
       "    <tr>\n",
       "      <th>6</th>\n",
       "      <td>harshkhatribusiness@gmail.com</td>\n",
       "    </tr>\n",
       "    <tr>\n",
       "      <th>7</th>\n",
       "      <td>harshkkhatri70@gmail.com</td>\n",
       "    </tr>\n",
       "  </tbody>\n",
       "</table>\n",
       "</div>"
      ]
     },
     "metadata": {},
     "execution_count": 14
    }
   ],
   "metadata": {
    "collapsed": false,
    "pycharm": {
     "name": "#%%\n"
    }
   }
  },
  {
   "cell_type": "code",
   "execution_count": 16,
   "source": [
    "from flask import render_template\n",
    "recipients=['mailharshkhatri@gmail.com',\"harsh@harshblog.xyz\",\"test@harshblog.xyz\"]\n",
    "def send_mail(i):\n",
    "    with app.app_context():\n",
    "        msg=Message(\n",
    "            \"mail sending with python\",\n",
    "            sender=MAIL_USERNAME,\n",
    "            recipients=[i]\n",
    "        )\n",
    "        # If you want to send a simple text mail\n",
    "        # msg.body=\"Hello friends\"\n",
    "\n",
    "        # If you want to include html page inside the email\n",
    "        msg.html=render_template(\"index2.html\",_external=True)\n",
    "        mail.send(msg)\n",
    "        print(\"sent\")\n",
    "if __name__== '__main__':\n",
    "    for i in df['emails']:\n",
    "        send_mail(i)\n",
    "        print(\"all mails sent.if any of the address was wrong you will get a mail regarding the same from google.\")"
   ],
   "outputs": [
    {
     "output_type": "stream",
     "name": "stdout",
     "text": [
      "sent\n",
      "all mails sent.if any of the address was wrong you will get a mail regarding the same from google.\n",
      "sent\n",
      "all mails sent.if any of the address was wrong you will get a mail regarding the same from google.\n",
      "sent\n",
      "all mails sent.if any of the address was wrong you will get a mail regarding the same from google.\n",
      "sent\n",
      "all mails sent.if any of the address was wrong you will get a mail regarding the same from google.\n",
      "sent\n",
      "all mails sent.if any of the address was wrong you will get a mail regarding the same from google.\n",
      "sent\n",
      "all mails sent.if any of the address was wrong you will get a mail regarding the same from google.\n",
      "sent\n",
      "all mails sent.if any of the address was wrong you will get a mail regarding the same from google.\n",
      "sent\n",
      "all mails sent.if any of the address was wrong you will get a mail regarding the same from google.\n"
     ]
    }
   ],
   "metadata": {
    "collapsed": false,
    "pycharm": {
     "name": "#%%\n"
    }
   }
  },
  {
   "cell_type": "code",
   "execution_count": null,
   "source": [
    "\n"
   ],
   "outputs": [],
   "metadata": {
    "collapsed": false,
    "pycharm": {
     "name": "#%%\n"
    }
   }
  }
 ],
 "metadata": {
  "kernelspec": {
   "name": "pycharm-22e4ca5d",
   "language": "python",
   "display_name": "PyCharm (Scripts)"
  },
  "language_info": {
   "codemirror_mode": {
    "name": "ipython",
    "version": 2
   },
   "file_extension": ".py",
   "mimetype": "text/x-python",
   "name": "python",
   "nbconvert_exporter": "python",
   "pygments_lexer": "ipython2",
   "version": "2.7.6"
  }
 },
 "nbformat": 4,
 "nbformat_minor": 2
}