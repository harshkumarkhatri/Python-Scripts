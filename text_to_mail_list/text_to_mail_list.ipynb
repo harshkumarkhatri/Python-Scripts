{
 "cells": [
  {
   "cell_type": "code",
   "execution_count": 2,
   "metadata": {
    "collapsed": true
   },
   "outputs": [],
   "source": [
    "import pandas as pd"
   ]
  },
  {
   "cell_type": "code",
   "execution_count": 4,
   "outputs": [],
   "source": [
    "text='﻿ssjm_badakera@yahoo.com, sbscadmn@gmail.com, binayaksc.angul@gmail.com, sriramclg@gmail.com, sriaurobindocollegeangul@gmail.com, mahimajyoti2016@gmail.com, pyasoda1961@gmail.com, principalgaca@gmail.com, angulmahilamahavidyalayap@yahoo.in, evening990@gmail.com, kbjm.pki@gmail.com, satyabadimeherjr.coll@gmail.com, solapadajrmahavi89@gmail.com, painchkulcollege@gmail.com, athmallik.college@gmail.com, pripssj1@gmail.com, ajctalmul@gmail.com, kumandajarasinghahsangul@gmail.com, tarunpanda_2008@rediffmail.com.in, svm_nalco@yahoo.co.in, kumardeepak60108@gmail.com, principalbcsc1976@rediffmail.com, principal.kosalamahavidyalaya@gmail.com, mcnlsantarabandha@gmail.com, ppmj100@gmail.com, kanihacollege@gmail.com, pnmparabil@gmail.com, dbiswalprincipal@gmail.com, rengaliprojectcollege@gmail.com, kishorenagarjuniorcollege1983@gmail.com, anchalikamahavidyalayaangapada@gmail.com, janatacollegeboinda.principal@gmail.com, malyagiri119@gmail.com, ugmkhamar@gmail.com, hingulajuniormahavidyalaya@gmail.com, nkmahav.1987@gmail.com, principalgrc@gmail.com, ttpsdavhss@gmail.com, davav_om@yahoo.in, vasudevscs@gmail.com, silpanchal.mahavidyalaya82@gmail.com, talchercollege15@gmail.com, principalghssbls@gmail.com, bvmprincipal@gmail.com, bahanagajuniorcollege@gmail.com, khantaparamahila@gmail.com, manojkumarsamantaray1978@gmail.com, vsc.addi@gmail.com, sharpmind.bls@gmail.com, srimanedu2010.bls@gmail.com, S.panda5@rediffmail.com, \"- collegebalasore\"@gmail.com, balasoremahilacollege1982@gmail.com, principal@sagarcollege.org, sarangadhartripathy@gmail.com, fmjc.balasore@gmail.com, kks_wc@yahoo.co.in, \"- ghbcacbalasore\"@yahoo.com, nikunja.principal@gmail.com, gkjcbalasore@gmail.com, \"- principalsrccbls\"@gmail.com, brcbahabalpur@gmail.com, \"- nmv.rupsa\"@gmail.com, drjncollege@yahoo.com, balangijuniorcollege@gmail.com, nkmahavidyalayabls@gmail.com, principalgolakmani@gmail.com, principal.slm80@gmail.com, nist923@gmail.com, principal.bm.sartha@gmail.com, lopamudra.panda16@gmail.com, satyasairsc@rediffmail.com, \"- Durgaprasanna.mv\"@gmail.com, kcpmjagai@gmail.com, subarnarekhamahavidyalaya@rediffmail.com, judhisthir1234@gmail.com, sudiptabiswal8@gmail.com, lnmv.jamsuli@gmail.com, principalsiddheswarcollege@gmail.com, cjmmchhachina143@gmail.com, principalwomenscollegenabara@gmail.com, \"- praharajganesh\"@gmail.com, kamardajuniorcollege@gmail.com, \"- principalbn67\"@gmail.com, mahavidyalayabarbatia@gmail.com, cmv.sahabajipur@gmail.com, jrjena04@gmail.com, principalrihs060@gmail.com, dkcjls@gmail.com, osmahavidyalaya@gmail.com, \"- principalugccollegebartana\"@gmail.com, ajitkumarmohanty@gmail.com, kanheiswain@gmail.com, jagannathwcjls@gmail.com, jaleswarwomenscollege@yahoo.com, hkmcollegekupari@gmail.com, khairacollege@gmail.com, anmahavidyalaya@gmail.com, gajendrasenapati@gmail.com, kamalarjuncollegegandibed@gmail.com, psmm.nahanga@gmail.com, mrswarup4u@gmail.com, swarnachud@rediffmail.com, \"- berhampurcollege\"@gmail.com, nilagiriwhss@gmail.com, nilgiricollege@yahoo.in, oupadacollege@gmail.com, panchalingeswarjr.college@gmail.com, collegebpj@gmail.com, \"- skbhuyan\"@gmail.com, harishbag@gmail.com, sjefjuniorcollegebarunsing@gmail.com, \"- chullikara\"@yahoo.com, principal.emma@gmail.com, principalramarani@gmail.com, vyadsakabi.junior@gmail.com, \"- jyotiwomenscollege\"@gmail.com, \"- bhssbalasore\"@gmail.com, balikhandcollege@gmail.com, principalsimulia@gmail.com, gopapranmv@gmail.com, \"- saraswat_bls\"@yahoo.co.in, sncollegemangalpur@hotmail.com, talanagarcollege@gmail.com, kudeiwomenscollege@gmail.com, kcst.soro@gmail.com, principalsorowomens@gmail.com, principaluncollege@yahoo.com, sriram.science.soro@gmail.com, rncollegesoro@gmail.com, \"- tribikramsvc\"@gmail.com, anchalikcollege.psg@gmail.com, kadobahalcollege@gmail.com, principalattabira@yahoo.co.in, dhaneswar.meher@gmail.com, katapalijrcollege@gmail.com, pradeepsahu@gmail.com, gmckalapani@gmail.com, principalmgpcollegesarsara@rediffmail.com, \"- shreeramkar\"@gmail.com, principalvikash@rediffmail.com, mpcbargarh@gmail.com, principal.pkais@gmail.com, TFCBARGARH@yahoo.com, womencollegebargarh@gmail.com, pcbargarh@gmail.com, bsibargarh@gmail.com, mscstbarpali@rediffmail.com, profgdgm@gmail.com, \"- jdwomenscollegekadalipali\"@gmail.com, principal.bcb@rediffmail.com, kamgaonjuniorcollege@gmail.com, principal.pc.goudgaon@gmail.com, dadhibamanjuniorcollegebhatli@gmail.com, principalbhedencollege@gmail.com, pallishreecollegechichinda@gmail.com, principalrcr@yahoo.com, principalreshamcollege@gmail.com, saraswatijrcollegeskh@gmail.com, \"- gsjuniorcollege\"@gmail.com, riasbijepur@gmail.com, akshya.joshi@gmail.com, principal.doracollege@gmail.com, panchayatjuniorcollegetalpadar@gmail.com, gdjrcollsdpl@gmail.com, principalpscg@gmail.com, goutambudhajrmahavidyalaya1@gmail.com, kshirodratjrct@gmail.com, \"- psjcollegejharbandh\"@gmail.com, principaldavajuniorcollege@gmail.com, principalwcp@gmail.com, jistpdmbrg@gmail.com, artscollege605@gmail.com, principalmjc@gmail.com, bkmishra2102@gmail.com, vvjrcpaikmal@gmail.com, principalmcm.mcm@gmail.com, bmcollegedahita@gmail.com, bpdalpati@gmail.com, acpprincipal@gmail.com, principaldash@gmail.com, anandapadhan@gmail.com, srjcsohela@gmail.com, womenscollegesohela@gmail.com, sohelajrcollege@gmail.com, ghesscollege@gmail.com, mandaricollegemandari@gmail.com, nabaghanacollege@gmail.com, saratchandrapanda@gmail.com, dmallick@gmail.com, Principalkmmmv@gmail.com, trupticollege@gmail.com, pbasudevpur@yahoo.co.in, salandi.mvut@gmail.com, charampacollege@gmail.com, \"- rameswarcollege\"@gmail.com, kkrmahilamahavidyalaya@gmail.com, \"- ssmjan\"@yahoo.co.in, kwscbdk@gmail.com, royalgroups@gmail.com, \"- kbssbhadrak\"@gmail.com, icssbhadrak@rediffmail.com, \"- pappusatyasundar1980\"@rediffmail.com, patisanjay@yahoo.co.in, arjc2010@gmail.com, dnroutomcc@gmail.com, info@presidencycollegebhadrak.com, bhadrakwomenscollege@gmail.com, principalbhadrakcollege@rediffmaill.com, naamicollege@rediffmail.com, bharatkaran@gmail.com, mohapatra.bipin1961@gmail.com, dhalkamalini@gmail.com, \"- bantcollege\"@gmail.com, hkmmcollege@gmail.com, agarparawcollege@gmail.com, agarparacollege@gmail.com, jyotirmayee_jena@rediffmail.com, principalchandbalicollege@gmail.com, dhamaraicollege@gmail.com, ghanteswarjuniormahavidyalaya@gmail.com, principallssjrcollege@gmail.com, dr.rajendrahota@gmail.com, principal.igmcollege@gmail.com, sbahal@gmail.com, sahidsmrutijrmahavidyalaya@gmail.com, ms.dm@gmail.com, dhamnagarcollege@gmail.com, bnmacollege@gmail.com, tihidicollege@gmail.com, \"- ascagalpur\"@gmail.com, \"- nhssn\"@gmail.com, jalandharcollegebharsuja@gmail.com, ghsssahajbahal1987@gmail.com, eteesradha@gmail.com, amarjyoticollege@gmail.com, chhabilabagarty@gmail.com, krupasindhujoshi@gmail.com, namita.patel5@gmail.com, jsmcollege.bgr@gmail.com, \"- jitmbgr\"@yahoo.in, bolangirgc@gmail.com, rcollegebgr@gmail.com, womenscollegebalangir@gmail.com, reachambarish@rediffmail.com, gayatricollege.bgr@gmail.com, \"- pramodrath\"@gmail.com, p.s.collegebgm@gmail.com, ppjrcollegeblm@gmail.com, nagdebarchan@gmail.com, shota_kbj@yahoo.com, sjdjm.mandal@gmail.com, srinibasmeher@gmail.com, jarasinghacollege.bgr@gmail.com, upamanyubag.deogaon@gmail.com, \"- anchalikjwc\"@gmail.com, toshaliwomenscollege@gmail.com, tusracollege@gmail.com, anchalikhsschoolrusuda@gmail.com, gpcollege.bgr@rediffmail.com, ranjitaguru@gmail.com, principal.hsjc@gmail.com, jnjuniorcollege@gmail.com, panchayatcollegelathor@gmail.com, ghasiramhota@gmail.com, jmpcollege.panchchhak@gmail.com, labara@rediffmail.com, hariharhsschooljogisarda@rediffmail.com, gcsahoo2016@gmail.com, psjuniorcollegemuribahal@gmail.com, anilpande@gmail.com, principaljvcb@gmail.com, panchayatsamiticollege.ghasian@gmail.com, rajendrameherhsc@gmail.com, \"- gyanbharaticollege.ptg\"@gmail.com, mahadev.premananda@gmail.com, pwjcptg@gmail.com, jjcptgprincipal@gmail.com, \"- shibashankarudgata\"@gmail.com, sudamcharankhamari@gmail.com, principalbilaisardajr@gmail.com, bisbalangir@gmail.com, mahaveerjuniorcollege@gmail.com, orientaljuniorcollege@gmail.com, mtjcbhatasar@gmail.com, \"- plhss\"@gmail.com, subhendubikashkumbhar@gmail.com, principalugd@gmail.com, principal.davcollege@gmail.com, surendradashsk@gmail.com, tigwomensjrcollege@gmail.com, kvjcollege@gmail.com, rgpsjrcollege@gmail.com, gandharadijrcollege@gmail.com, principalmmjcbaunsuni@gmail.com, sumitra.sonpur@gmail.com, kunmun.hati725@gmail.com, sanskar.hssbaunsuni@gmail.com, tapaswini.sahu@gmail.com, womenshsschoolboudh@gmail.com, bpcollege@gmail.com, bhairabicollege84@gmail.com, apc.harabhanga@gmail.com, \"- npdjc.narayanaprasad\"@gmail.com, jjcdamamunda@gmail.com, lopamudrajuniorcollegemmd@gmail.com, pwcpalasagora@gmail.com, \"- panigrahi.susantakumar\"@gmail.com, pjrc.kantamal@gmail.com, choudwarcollegechoudwar@yahoo.com, principalchoudwarwomenscollege@gmail.com, gbwcollege@gmail.com, bhawanipt@gmail.com, \"- ssdm\"@rediffmail.com, sunilima@gmail.com, \"- sakti.r.behera\"@gmail.com, principalkdajrmohavidyalaya@gmail.com, kpallau@yahoo.com, pradeep@gmail.com, bankiautocol@yahoo.co.in, mohansubudhicollegeb@gmail.com, mnbjunior@gmail.com, principal.ssdac@gmail.com, rprc2013@gmail.com, spsusilpradhan@gmail.com, brahmanjharilo.college@gmail.com, pravaroutray@gmail.com, pledwc@gmail.com, smaharana@gmail.com, nsmcity@gmail.com, drkcswcollege@gmail.com, makamc@gmail.com, \"- sarkarneeta\"@gmail.com, mahanadiviharwomenscollege@gmail.com, bmmwjc@rediffmail.com, director@ipsar.ac.in, ajaya.math@gmail.com, sophia.cuttack@gmail.com, sriaurobindo.sciencecollege@gmail.com, principal@christcollege.ac.in, principal@stewartsciencecollege.org, ravenshawjuniorcollege@gmail.com, sailabala.womenscollege@gmail.com, info@saraswaticollege.net, gonasikacollegecuttack@gmail.com, principal@aimsjuniorcollege.com, resnick.sciencecollege@gmail.com, mahanadiitc@gmail.com, indigopri@gmail.com, sims.ctc@gmail.com, gimtodisha@gmail.com, sakuntalasciencecollege17@gmail.com, \"- prdbapi\"@gmail.com, svmsciencecollege@gmail.com, principalelisa@gmail.com, rrcollege@gmail.com, bmjcctc@gmail.com'"
   ],
   "metadata": {
    "collapsed": false,
    "pycharm": {
     "name": "#%%\n"
    }
   }
  },
  {
   "cell_type": "code",
   "execution_count": 5,
   "outputs": [],
   "source": [
    "text_remove_dash=text.replace('-','')"
   ],
   "metadata": {
    "collapsed": false,
    "pycharm": {
     "name": "#%%\n"
    }
   }
  },
  {
   "cell_type": "code",
   "execution_count": 6,
   "outputs": [],
   "source": [
    "text_remove_dq=text_remove_dash.replace('\"','')"
   ],
   "metadata": {
    "collapsed": false,
    "pycharm": {
     "name": "#%%\n"
    }
   }
  },
  {
   "cell_type": "code",
   "execution_count": 7,
   "outputs": [],
   "source": [
    "lis=text_remove_dq.split(',')"
   ],
   "metadata": {
    "collapsed": false,
    "pycharm": {
     "name": "#%%\n"
    }
   }
  },
  {
   "cell_type": "code",
   "execution_count": 9,
   "outputs": [],
   "source": [
    "df=pd.DataFrame(lis,columns=['Mail'])"
   ],
   "metadata": {
    "collapsed": false,
    "pycharm": {
     "name": "#%%\n"
    }
   }
  },
  {
   "cell_type": "code",
   "execution_count": 10,
   "outputs": [
    {
     "data": {
      "text/plain": "                                  Mail\n0             ﻿ssjm_badakera@yahoo.com\n1                   sbscadmn@gmail.com\n2            binayaksc.angul@gmail.com\n3                  sriramclg@gmail.com\n4   sriaurobindocollegeangul@gmail.com",
      "text/html": "<div>\n<style scoped>\n    .dataframe tbody tr th:only-of-type {\n        vertical-align: middle;\n    }\n\n    .dataframe tbody tr th {\n        vertical-align: top;\n    }\n\n    .dataframe thead th {\n        text-align: right;\n    }\n</style>\n<table border=\"1\" class=\"dataframe\">\n  <thead>\n    <tr style=\"text-align: right;\">\n      <th></th>\n      <th>Mail</th>\n    </tr>\n  </thead>\n  <tbody>\n    <tr>\n      <th>0</th>\n      <td>﻿ssjm_badakera@yahoo.com</td>\n    </tr>\n    <tr>\n      <th>1</th>\n      <td>sbscadmn@gmail.com</td>\n    </tr>\n    <tr>\n      <th>2</th>\n      <td>binayaksc.angul@gmail.com</td>\n    </tr>\n    <tr>\n      <th>3</th>\n      <td>sriramclg@gmail.com</td>\n    </tr>\n    <tr>\n      <th>4</th>\n      <td>sriaurobindocollegeangul@gmail.com</td>\n    </tr>\n  </tbody>\n</table>\n</div>"
     },
     "execution_count": 10,
     "metadata": {},
     "output_type": "execute_result"
    }
   ],
   "source": [
    "df.head()"
   ],
   "metadata": {
    "collapsed": false,
    "pycharm": {
     "name": "#%%\n"
    }
   }
  },
  {
   "cell_type": "code",
   "execution_count": 19,
   "outputs": [
    {
     "ename": "AttributeError",
     "evalue": "'DataFrame' object has no attribute 'rows'",
     "output_type": "error",
     "traceback": [
      "\u001B[0;31m---------------------------------------------------------------------------\u001B[0m",
      "\u001B[0;31mAttributeError\u001B[0m                            Traceback (most recent call last)",
      "\u001B[0;32m<ipython-input-19-8c3b44ed51c3>\u001B[0m in \u001B[0;36m<module>\u001B[0;34m\u001B[0m\n\u001B[0;32m----> 1\u001B[0;31m \u001B[0mdf\u001B[0m\u001B[0;34m.\u001B[0m\u001B[0mrows\u001B[0m\u001B[0;34m=\u001B[0m\u001B[0mdf\u001B[0m\u001B[0;34m.\u001B[0m\u001B[0mrows\u001B[0m\u001B[0;34m.\u001B[0m\u001B[0mstr\u001B[0m\u001B[0;34m.\u001B[0m\u001B[0mstrip\u001B[0m\u001B[0;34m(\u001B[0m\u001B[0;34m)\u001B[0m\u001B[0;34m\u001B[0m\u001B[0;34m\u001B[0m\u001B[0m\n\u001B[0m\u001B[1;32m      2\u001B[0m \u001B[0;34m\u001B[0m\u001B[0m\n",
      "\u001B[0;32m~/.local/lib/python3.8/site-packages/pandas/core/generic.py\u001B[0m in \u001B[0;36m__getattr__\u001B[0;34m(self, name)\u001B[0m\n\u001B[1;32m   5272\u001B[0m             \u001B[0;32mif\u001B[0m \u001B[0mself\u001B[0m\u001B[0;34m.\u001B[0m\u001B[0m_info_axis\u001B[0m\u001B[0;34m.\u001B[0m\u001B[0m_can_hold_identifiers_and_holds_name\u001B[0m\u001B[0;34m(\u001B[0m\u001B[0mname\u001B[0m\u001B[0;34m)\u001B[0m\u001B[0;34m:\u001B[0m\u001B[0;34m\u001B[0m\u001B[0;34m\u001B[0m\u001B[0m\n\u001B[1;32m   5273\u001B[0m                 \u001B[0;32mreturn\u001B[0m \u001B[0mself\u001B[0m\u001B[0;34m[\u001B[0m\u001B[0mname\u001B[0m\u001B[0;34m]\u001B[0m\u001B[0;34m\u001B[0m\u001B[0;34m\u001B[0m\u001B[0m\n\u001B[0;32m-> 5274\u001B[0;31m             \u001B[0;32mreturn\u001B[0m \u001B[0mobject\u001B[0m\u001B[0;34m.\u001B[0m\u001B[0m__getattribute__\u001B[0m\u001B[0;34m(\u001B[0m\u001B[0mself\u001B[0m\u001B[0;34m,\u001B[0m \u001B[0mname\u001B[0m\u001B[0;34m)\u001B[0m\u001B[0;34m\u001B[0m\u001B[0;34m\u001B[0m\u001B[0m\n\u001B[0m\u001B[1;32m   5275\u001B[0m \u001B[0;34m\u001B[0m\u001B[0m\n\u001B[1;32m   5276\u001B[0m     \u001B[0;32mdef\u001B[0m \u001B[0m__setattr__\u001B[0m\u001B[0;34m(\u001B[0m\u001B[0mself\u001B[0m\u001B[0;34m,\u001B[0m \u001B[0mname\u001B[0m\u001B[0;34m:\u001B[0m \u001B[0mstr\u001B[0m\u001B[0;34m,\u001B[0m \u001B[0mvalue\u001B[0m\u001B[0;34m)\u001B[0m \u001B[0;34m->\u001B[0m \u001B[0;32mNone\u001B[0m\u001B[0;34m:\u001B[0m\u001B[0;34m\u001B[0m\u001B[0;34m\u001B[0m\u001B[0m\n",
      "\u001B[0;31mAttributeError\u001B[0m: 'DataFrame' object has no attribute 'rows'"
     ]
    }
   ],
   "source": [
    "df.rows=df.rows.str.strip()"
   ],
   "metadata": {
    "collapsed": false,
    "pycharm": {
     "name": "#%%\n"
    }
   }
  },
  {
   "cell_type": "code",
   "execution_count": 20,
   "outputs": [],
   "source": [
    "df.to_csv(\"mails.csv\")\n",
    "\n"
   ],
   "metadata": {
    "collapsed": false,
    "pycharm": {
     "name": "#%%\n"
    }
   }
  },
  {
   "cell_type": "code",
   "execution_count": 18,
   "outputs": [
    {
     "data": {
      "text/plain": "                                    Mail\n0               ﻿ssjm_badakera@yahoo.com\n1                     sbscadmn@gmail.com\n2              binayaksc.angul@gmail.com\n3                    sriramclg@gmail.com\n4     sriaurobindocollegeangul@gmail.com\n..                                   ...\n352                    prdbapi@gmail.com\n353          svmsciencecollege@gmail.com\n354             principalelisa@gmail.com\n355                  rrcollege@gmail.com\n356                    bmjcctc@gmail.com\n\n[357 rows x 1 columns]",
      "text/html": "<div>\n<style scoped>\n    .dataframe tbody tr th:only-of-type {\n        vertical-align: middle;\n    }\n\n    .dataframe tbody tr th {\n        vertical-align: top;\n    }\n\n    .dataframe thead th {\n        text-align: right;\n    }\n</style>\n<table border=\"1\" class=\"dataframe\">\n  <thead>\n    <tr style=\"text-align: right;\">\n      <th></th>\n      <th>Mail</th>\n    </tr>\n  </thead>\n  <tbody>\n    <tr>\n      <th>0</th>\n      <td>﻿ssjm_badakera@yahoo.com</td>\n    </tr>\n    <tr>\n      <th>1</th>\n      <td>sbscadmn@gmail.com</td>\n    </tr>\n    <tr>\n      <th>2</th>\n      <td>binayaksc.angul@gmail.com</td>\n    </tr>\n    <tr>\n      <th>3</th>\n      <td>sriramclg@gmail.com</td>\n    </tr>\n    <tr>\n      <th>4</th>\n      <td>sriaurobindocollegeangul@gmail.com</td>\n    </tr>\n    <tr>\n      <th>...</th>\n      <td>...</td>\n    </tr>\n    <tr>\n      <th>352</th>\n      <td>prdbapi@gmail.com</td>\n    </tr>\n    <tr>\n      <th>353</th>\n      <td>svmsciencecollege@gmail.com</td>\n    </tr>\n    <tr>\n      <th>354</th>\n      <td>principalelisa@gmail.com</td>\n    </tr>\n    <tr>\n      <th>355</th>\n      <td>rrcollege@gmail.com</td>\n    </tr>\n    <tr>\n      <th>356</th>\n      <td>bmjcctc@gmail.com</td>\n    </tr>\n  </tbody>\n</table>\n<p>357 rows × 1 columns</p>\n</div>"
     },
     "execution_count": 18,
     "metadata": {},
     "output_type": "execute_result"
    }
   ],
   "source": [
    "df"
   ],
   "metadata": {
    "collapsed": false,
    "pycharm": {
     "name": "#%%\n"
    }
   }
  },
  {
   "cell_type": "code",
   "execution_count": null,
   "outputs": [],
   "source": [
    "\n"
   ],
   "metadata": {
    "collapsed": false,
    "pycharm": {
     "name": "#%%\n"
    }
   }
  }
 ],
 "metadata": {
  "kernelspec": {
   "name": "pycharm-22e4ca5d",
   "language": "python",
   "display_name": "PyCharm (Scripts)"
  },
  "language_info": {
   "codemirror_mode": {
    "name": "ipython",
    "version": 2
   },
   "file_extension": ".py",
   "mimetype": "text/x-python",
   "name": "python",
   "nbconvert_exporter": "python",
   "pygments_lexer": "ipython2",
   "version": "2.7.6"
  }
 },
 "nbformat": 4,
 "nbformat_minor": 0
}